import pandas as pd


df = pd.read_csv(r"C:\Users\ARYAN DASH\GitProj\Data\netflix_titles.csv")


print(df.head())


print(df.info())


print(df.isnull().sum())


df


df['director'].fillna('Unknown',inplace = True)
df['cast'].fillna('Unknown',inplace = True)
df['country'].fillna('Unknown',inplace = True)
df['rating'].fillna('Unknown',inplace = True)
df.dropna(subset = ['date_added'],inplace = True)


df.head()


df['main_genre'] = df['listed_in'].apply(lambda x: x.split(',')[0])


df


df.drop_duplicates(inplace = True)


# Content Type Distribution


import seaborn as sns
import matplotlib.pyplot as plt


sns.countplot(data=df, x='type', hue='type', palette='Set2', legend=False)
plt.title('Distribution of content type on Netflix')
plt.xlabel('Type')
plt.ylabel('Count')
plt.show()


# Top countries by content


top_countries = df['country'].value_counts().head(10)


top_countries.plot(kind='bar' , color = 'coral')
plt.title("Top 10 countries with most Netflix Titles")
plt.xlabel('Country')
plt.ylabel('Number of Titles')
plt.xticks(rotation = 45)
plt.show()


# Top 10 Genres (Main genres) 


top_genres = df['main_genre'].value_counts().head(10)


top_genres.plot(kind='barh',color='mediumseagreen')
plt.title('Top 10 Genres on Netflix')
plt.xlabel('No. of Titles')
plt.ylabel('Genre')
plt.gca().invert_yaxis()
plt.show()


# Ratings Distribution


rating_order = df['rating'].value_counts().head(10)


rating_df = pd.DataFrame({'rating': rating_order.index , 'count': rating_order.values})
sns.barplot(data = rating_df , x = 'count' , y = 'rating' , hue = 'rating' , palette = 'coolwarm' , legend = False)
plt.title("Top Ratings on netflix")
plt.xlabel("No. of titles")
plt.ylabel("Rating")
plt.show()


# Top genre by Country


country_genre = df.groupby(['country', 'main_genre']).size().unstack().fillna(0)
top_10_countries = df['country'].value_counts().head(10).index
filtered_heatmap = country_genre.loc[top_10_countries]

plt.figure(figsize=(14, 6))
sns.heatmap(filtered_heatmap, cmap='YlGnBu', annot=False, linewidths=0.5)
plt.title("Top Genres by Country (Top 10 Countries)")
plt.xlabel("Genre")
plt.ylabel("Country")
plt.tight_layout()
plt.show()


# Duration Analysis for Movies


# Filter only movies
movies_df = df[df['type'] == 'Movie'].copy()
movies_df['duration_int'] = movies_df['duration'].str.extract('(\d)').astype(float)

plt.figure(figsize=(10, 6))
sns.histplot(movies_df['duration_int'], bins=30, kde=True, color='coral')
plt.title("Distribution of Movie Durations (in minutes)")
plt.xlabel("Duration (minutes)")
plt.ylabel("Frequency")
plt.show()


# TV Show Distribution


tv_df = df[df['type'] == 'TV Show'].copy()
tv_df['seasons'] = tv_df['duration'].str.extract('(\d+)').astype(int)

plt.figure(figsize=(10, 6))
sns.countplot(x='seasons', data=tv_df, palette='plasma')
plt.title("Distribution of TV Show Seasons")
plt.xlabel("Number of Seasons")
plt.ylabel("Count")
plt.show()



